{
 "cells": [
  {
   "cell_type": "code",
   "execution_count": 1,
   "id": "12177dd9-7ec9-41d8-bcf9-256c5ef1719b",
   "metadata": {},
   "outputs": [],
   "source": [
    "from typing import Dict, List"
   ]
  },
  {
   "cell_type": "code",
   "execution_count": 2,
   "id": "01baa58c-9b1b-4f71-8b11-4c535874bafc",
   "metadata": {},
   "outputs": [],
   "source": [
    "folders = glob(\"grant_pdf_17900731_18641101/00000001-X009741H/00/*/*\")"
   ]
  },
  {
   "cell_type": "code",
   "execution_count": 4,
   "id": "a2b1dbef-9cf6-444e-b01e-3e78bcf09e15",
   "metadata": {},
   "outputs": [],
   "source": [
    "def prepare_text_from_uspto(folder):\n",
    "    start = 0\n",
    "    xml = glob(folder + \"/*.xml\")[0]\n",
    "    for r in read_str(xml):\n",
    "        if \"<claims-pages>\" in r:\n",
    "            start = 1\n",
    "        if \"</claims-pages>\" in r:\n",
    "            break\n",
    "        if start:\n",
    "            if \"begin\" in r:\n",
    "                begin = int(re.findall(\"\\d+\", r)[0])\n",
    "            if \"end\" in r:\n",
    "                end = int(re.findall(\"\\d+\", r)[0])\n",
    "    claim_pages = range(begin - 1, end)\n",
    "    for page in claim_pages:\n",
    "        for f in glob(folder + \"/*.txt\"):\n",
    "            if f.endswith(f\"{page}.txt\"):\n",
    "                files.append(f)\n",
    "\n",
    "    data = []\n",
    "    for f in files:\n",
    "        data.extend(read_str(f))"
   ]
  },
  {
   "cell_type": "code",
   "execution_count": 2,
   "id": "9c29c50d-1bc2-47c2-a783-8b2815285592",
   "metadata": {},
   "outputs": [
    {
     "ename": "NameError",
     "evalue": "name 'List' is not defined",
     "output_type": "error",
     "traceback": [
      "\u001b[0;31m---------------------------------------------------------------------------\u001b[0m",
      "\u001b[0;31mNameError\u001b[0m                                 Traceback (most recent call last)",
      "Cell \u001b[0;32mIn[2], line 1\u001b[0m\n\u001b[0;32m----> 1\u001b[0m \u001b[38;5;28;01mdef\u001b[39;00m \u001b[38;5;21mparse\u001b[39m(data)\u001b[38;5;241m-\u001b[39m\u001b[38;5;241m>\u001b[39m \u001b[43mList\u001b[49m:\n\u001b[1;32m      2\u001b[0m     num \u001b[38;5;241m=\u001b[39m \u001b[38;5;28mdict\u001b[39m()\n\u001b[1;32m      3\u001b[0m     i \u001b[38;5;241m=\u001b[39m \u001b[38;5;241m1\u001b[39m\n",
      "\u001b[0;31mNameError\u001b[0m: name 'List' is not defined"
     ]
    }
   ],
   "source": [
    "def parse(data) -> List:\n",
    "    num = dict()\n",
    "    i = 1\n",
    "    for r in data:\n",
    "        if \"witness\" in r.lower() and num:\n",
    "            break\n",
    "        if r.startswith(f\"{i}. \"):\n",
    "            num[i] = list()\n",
    "            num[i].append(r)\n",
    "            i += 1\n",
    "        else:\n",
    "            if num:\n",
    "                num[i - 1].append(r)\n",
    "\n",
    "    if num:  # if we do find claims by numberings\n",
    "        return [(folder, k, \" \".join(v)) for k, v in num.items()]\n",
    "    else:\n",
    "        start = 0\n",
    "        claim_rows = []\n",
    "        for i, r in enumerate(data):\n",
    "            if \"claim\" in r or \"desire to\" in r or \"secure by\" in r or \"is-\" in r:\n",
    "                claim_rows.append(i)\n",
    "        res = []\n",
    "        if len(claim_rows) == 0:\n",
    "            return {}\n",
    "        for r in data[claim_rows[-1] + 1 :]:\n",
    "            if not r.strip() and start == 0:\n",
    "                start = 1\n",
    "                continue\n",
    "            if not r.strip() and start == 1:\n",
    "                break\n",
    "            if start:\n",
    "                res.append(r)\n",
    "        return [(folder, 1, \"1. \" + \" \".join(res))]"
   ]
  },
  {
   "cell_type": "code",
   "execution_count": null,
   "id": "a4a80ff0-a629-435a-a5d5-371e90ded6aa",
   "metadata": {},
   "outputs": [],
   "source": []
  }
 ],
 "metadata": {
  "kernelspec": {
   "display_name": "Python 3 (ipykernel)",
   "language": "python",
   "name": "python3"
  },
  "language_info": {
   "codemirror_mode": {
    "name": "ipython",
    "version": 3
   },
   "file_extension": ".py",
   "mimetype": "text/x-python",
   "name": "python",
   "nbconvert_exporter": "python",
   "pygments_lexer": "ipython3",
   "version": "3.9.16"
  }
 },
 "nbformat": 4,
 "nbformat_minor": 5
}
